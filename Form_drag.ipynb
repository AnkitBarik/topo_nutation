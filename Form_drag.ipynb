{
 "cells": [
  {
   "cell_type": "code",
   "execution_count": null,
   "id": "6b5b36cb-7730-4363-ba80-eb38fa608507",
   "metadata": {},
   "outputs": [],
   "source": [
    "import numpy as np\n",
    "from scipy.integrate import quad\n",
    "import matplotlib.pyplot as plt"
   ]
  },
  {
   "cell_type": "code",
   "execution_count": null,
   "id": "313fd223-3651-48eb-a363-b75e8987de53",
   "metadata": {},
   "outputs": [],
   "source": [
    "rho = 11e3\n",
    "Omega = 2*np.pi/86400\n",
    "U0 = 8.7e-5\n",
    "R = 3486e3"
   ]
  },
  {
   "cell_type": "code",
   "execution_count": null,
   "id": "1d55b8cf-4cba-4ce6-8560-f41fe50fb4da",
   "metadata": {},
   "outputs": [],
   "source": [
    "def fx(alpha, lat, NoverOmega):\n",
    "    expr = (NoverOmega**2 - 1)*(1 - 4*np.sin(lat)**2) + 4*np.cos(lat)**2*np.sin(alpha)**2\n",
    "    \n",
    "    if expr < 0:\n",
    "        return 0.0\n",
    "\n",
    "    return -np.sin(lat)*np.sqrt(expr)*np.cos(alpha)**2"
   ]
  },
  {
   "cell_type": "code",
   "execution_count": null,
   "id": "ca1cce08-5662-4e73-9790-ef7839d0c73b",
   "metadata": {},
   "outputs": [],
   "source": [
    "def Fxintalpha(NoverOmega,lat):\n",
    " return quad(fx, 0, 2*np.pi, args=(lat, NoverOmega), limit=1000, epsabs=1e-10, epsrel=1e-10)[0]"
   ]
  },
  {
   "cell_type": "code",
   "execution_count": null,
   "id": "ac6430ff-bcc4-47f0-b429-db428decc8a7",
   "metadata": {},
   "outputs": [],
   "source": [
    "def fx_trad(alpha, lat, NoverOmega):\n",
    "    expr = (NoverOmega**2 - 1)*(1 - 4*np.sin(lat)**2)\n",
    "    \n",
    "    if expr < 0:\n",
    "        return 0.0\n",
    "\n",
    "    return -np.sin(lat)*np.sqrt(expr)*np.cos(alpha)**2"
   ]
  },
  {
   "cell_type": "code",
   "execution_count": null,
   "id": "1f49b599-aef2-4c8b-b346-09ccfa8d4a82",
   "metadata": {},
   "outputs": [],
   "source": [
    "def Fxintalpha_trad(NoverOmega,lat):\n",
    " return quad(fx_trad, 0, 2*np.pi, args=(lat, NoverOmega), limit=1000, epsabs=1e-10, epsrel=1e-10)[0]"
   ]
  },
  {
   "cell_type": "code",
   "execution_count": null,
   "id": "cbd5e223-29b8-4b04-ae13-56b741def8d3",
   "metadata": {},
   "outputs": [],
   "source": [
    "def fy(alpha, lat, NoverOmega):\n",
    "    expr = (NoverOmega**2 - 1)*(1 - 4*np.sin(lat)**2) + 4*np.cos(lat)**2*np.sin(alpha)**2\n",
    "    \n",
    "    if expr < 0:\n",
    "        return 0.0\n",
    "\n",
    "    return np.sqrt(expr)*np.sin(alpha)**2"
   ]
  },
  {
   "cell_type": "code",
   "execution_count": null,
   "id": "e0d5a8ae-0a84-40ce-a839-1362cdf3a0c3",
   "metadata": {},
   "outputs": [],
   "source": [
    "def Fyintalpha(NoverOmega,lat):\n",
    " return quad(fy, 0, 2*np.pi, args=(lat, NoverOmega), limit=1000, epsabs=1e-10, epsrel=1e-10)[0]"
   ]
  },
  {
   "cell_type": "code",
   "execution_count": null,
   "id": "bc0e4690-8380-46f4-928f-ebdfa461bf5b",
   "metadata": {},
   "outputs": [],
   "source": [
    "def fy_trad(alpha, lat, NoverOmega):\n",
    "    expr = (NoverOmega**2 - 1)*(1 - 4*np.sin(lat)**2)\n",
    "    \n",
    "    if expr < 0:\n",
    "        return 0.0\n",
    "\n",
    "    return np.sqrt(expr)*np.sin(alpha)**2"
   ]
  },
  {
   "cell_type": "code",
   "execution_count": null,
   "id": "ee3b6122-1a8d-4e5c-bad1-fdb8dd6d15c5",
   "metadata": {},
   "outputs": [],
   "source": [
    "def Fyintalpha_trad(NoverOmega,lat):\n",
    " return quad(fy_trad, 0, 2*np.pi, args=(lat, NoverOmega), limit=1000, epsabs=1e-10, epsrel=1e-10)[0]"
   ]
  },
  {
   "cell_type": "code",
   "execution_count": null,
   "id": "35ca0d89-e02c-4cc3-93dc-2a52dd7e142b",
   "metadata": {},
   "outputs": [],
   "source": [
    "# Vectorize over latitude\n",
    "latitudes = np.linspace(0, np.pi/2, 100) \n",
    "Fx_vec = np.vectorize(lambda lat: Fxintalpha(0, lat))\n",
    "form_drag_x = Fx_vec(latitudes)\n",
    "\n",
    "Fx_vec_trad = np.vectorize(lambda lat: Fxintalpha_trad(0, lat))\n",
    "form_drag_x_trad = Fx_vec_trad(latitudes)"
   ]
  },
  {
   "cell_type": "code",
   "execution_count": null,
   "id": "670c6a47-68b8-4d2e-9b39-2857c3f11dbc",
   "metadata": {},
   "outputs": [],
   "source": [
    "# Vectorize over latitude\n",
    "latitudes = np.linspace(0, np.pi/2, 100) \n",
    "Fy_vec = np.vectorize(lambda lat: Fyintalpha(0, lat))\n",
    "form_drag_y = Fy_vec(latitudes)\n",
    "\n",
    "Fy_vec_trad = np.vectorize(lambda lat: Fyintalpha_trad(0, lat))\n",
    "form_drag_y_trad = Fy_vec_trad(latitudes)"
   ]
  },
  {
   "cell_type": "code",
   "execution_count": null,
   "id": "b631af11-8de2-4089-be94-8e915302ee48",
   "metadata": {},
   "outputs": [],
   "source": [
    "# Plotting\n",
    "plt.rc('text', usetex=True)\n",
    "plt.plot(np.degrees(latitudes), form_drag_x, label=\"zonal\")\n",
    "plt.plot(np.degrees(latitudes), form_drag_y, label=\"meridional\")\n",
    "plt.xlabel(\"Latitude (degrees)\")\n",
    "plt.title(\"Geometric factor\")\n",
    "plt.legend()\n",
    "plt.grid(True)\n",
    "plt.show()"
   ]
  },
  {
   "cell_type": "code",
   "execution_count": null,
   "id": "eb80b944-c959-4572-bc42-6dfc037a7c38",
   "metadata": {},
   "outputs": [],
   "source": [
    "# Wrapper for latitude integration, including Jacobian (R^2 cos(lat)) and accounting for the integral over longitudes\n",
    "def integrand(lat, NoverOmega):\n",
    "    return R * np.pi * (Fyintalpha(NoverOmega,lat)-np.sin(lat)*Fxintalpha(NoverOmega, lat)) * R**2 * np.cos(lat)"
   ]
  },
  {
   "cell_type": "code",
   "execution_count": null,
   "id": "95a5a785-4be5-4cec-be09-5e3eab9c7f23",
   "metadata": {},
   "outputs": [],
   "source": [
    "N_values = np.linspace(0., 5, 41) \n",
    "results = []\n",
    "\n",
    "for NoverOmega in N_values:\n",
    "    torque, _ = quad(\n",
    "        integrand,\n",
    "        -np.pi/2,\n",
    "        np.pi/2,\n",
    "        args=(NoverOmega),\n",
    "        limit=1000,\n",
    "        epsabs=1e-10,\n",
    "        epsrel=1e-10\n",
    "    )\n",
    "    print(torque)\n",
    "    results.append(torque)"
   ]
  },
  {
   "cell_type": "code",
   "execution_count": null,
   "id": "8ba27ef6-0867-4d06-9b84-e3ea657e6622",
   "metadata": {},
   "outputs": [],
   "source": [
    "# Wrapper for latitude integration, including Jacobian (R^2 cos(lat))\n",
    "def integrand_trad(lat, NoverOmega):\n",
    "    return R * np.pi * (Fyintalpha_trad(NoverOmega,lat)-np.sin(lat)*Fxintalpha_trad(NoverOmega, lat)) * R**2 * np.cos(lat)"
   ]
  },
  {
   "cell_type": "code",
   "execution_count": null,
   "id": "2551ce56-7a18-4a8c-8c65-586196665963",
   "metadata": {},
   "outputs": [],
   "source": [
    "N_values = np.linspace(0., 5, 41) \n",
    "results_trad = []\n",
    "\n",
    "for NoverOmega in N_values:\n",
    "    torque, _ = quad(\n",
    "        integrand_trad,\n",
    "        -np.pi/2,\n",
    "        np.pi/2,\n",
    "        args=(NoverOmega),\n",
    "        limit=1000,\n",
    "        epsabs=1e-10,\n",
    "        epsrel=1e-10\n",
    "    )\n",
    "    print(torque)\n",
    "    results_trad.append(torque)"
   ]
  },
  {
   "cell_type": "code",
   "execution_count": null,
   "id": "7e95b29e-7d32-43cb-956f-26acc5ed5f14",
   "metadata": {},
   "outputs": [],
   "source": [
    "k0 = 2*np.pi/1e6\n",
    "H = 0.7\n",
    "hrms = 5.67e3"
   ]
  },
  {
   "cell_type": "code",
   "execution_count": null,
   "id": "34d6a224-0d36-4418-829e-208ae4e55b3a",
   "metadata": {},
   "outputs": [],
   "source": [
    "As = 5.8531e34\n",
    "Af = 9.0583e36\n",
    "A  = 8.0115e37\n",
    "Am = A - (As+Af)\n",
    "wf = 2.4e-11"
   ]
  },
  {
   "cell_type": "code",
   "execution_count": null,
   "id": "672c6a2b-f627-412b-8b4d-6ea587085515",
   "metadata": {},
   "outputs": [],
   "source": [
    "plt.rc('text', usetex=True)\n",
    "\n",
    "# Secondary y-axis\n",
    "sf = Af * wf * Omega\n",
    "ax = plt.gca()\n",
    "ax.secondary_yaxis('right', functions=(lambda y: y / sf, lambda y: y * sf))\\\n",
    "         .set_ylabel(r'$\\mathrm{Re}(K_\\mathrm{cmb})$', fontsize=14)\n",
    "\n",
    "plt.plot(N_values,(rho/4/np.pi**3)*(hrms**2*k0*H/(2*H-1))*(U0*Omega)*np.array(results), marker='o', linestyle='-', label=\"exact\")\n",
    "plt.plot(N_values,(rho/4/np.pi**3)*(hrms**2*k0*H/(2*H-1))*(U0*Omega)*np.array(results_trad), marker='o', linestyle='-', label=\"traditional approximation\")\n",
    "plt.xlabel(r'$N/\\Omega$', fontsize=14)\n",
    "plt.ylabel(r'Torque (Nm)', fontsize=14)\n",
    "plt.legend()\n",
    "plt.grid(True)\n",
    "\n",
    "plt.savefig(\"Torque.pdf\")\n",
    "plt.show()"
   ]
  }
 ],
 "metadata": {
  "kernelspec": {
   "display_name": "Python 3 (ipykernel)",
   "language": "python",
   "name": "python3"
  },
  "language_info": {
   "codemirror_mode": {
    "name": "ipython",
    "version": 3
   },
   "file_extension": ".py",
   "mimetype": "text/x-python",
   "name": "python",
   "nbconvert_exporter": "python",
   "pygments_lexer": "ipython3",
   "version": "3.12.7"
  }
 },
 "nbformat": 4,
 "nbformat_minor": 5
}
