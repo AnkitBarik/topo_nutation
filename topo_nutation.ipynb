{
 "cells": [
  {
   "cell_type": "code",
   "execution_count": 139,
   "id": "a8a1413f-7b50-49c2-8c69-3b2fa0347076",
   "metadata": {},
   "outputs": [],
   "source": [
    "import numpy as np\n",
    "import matplotlib.pyplot as plt\n",
    "from scipy.integrate import simpson"
   ]
  },
  {
   "cell_type": "code",
   "execution_count": 140,
   "id": "5c255215-a8b4-43e9-aeeb-3ad12a2004be",
   "metadata": {},
   "outputs": [],
   "source": [
    "rho = 9.9035e3\n",
    "mu = 4*np.pi*1e-7\n",
    "Omega = 2*np.pi/86400\n",
    "omega = -Omega\n",
    "\n",
    "sigma_f = 5e5\n",
    "sigma_s = sigma_f\n",
    "eta_f = 1/(sigma_f*mu)\n",
    "eta_s = 1/(sigma_s*mu)\n",
    "\n",
    "lambda_s = -np.sqrt(1j * omega/eta_s)\n",
    "\n",
    "nu = 1e-2\n",
    "rcmb = 3.48e6\n",
    "Af = 9.0583e36 #MOI of the Core\n",
    "\n",
    "ntheta = 1024\n",
    "theta = np.linspace(0,np.pi,ntheta)\n",
    "\n",
    "f = 2*Omega*np.cos(theta)"
   ]
  },
  {
   "cell_type": "code",
   "execution_count": 141,
   "id": "1c311b7e-4bf2-4952-9e5b-10f62fd7a037",
   "metadata": {},
   "outputs": [],
   "source": [
    "def get_diss(Br):\n",
    "\n",
    "    lambda1_pos = 1./np.sqrt(2) * np.sqrt((Br**2/(mu*rho) + 1j*nu*omega + 1j*eta_f*(f + omega) - \n",
    "                            np.sqrt(4*eta_f*nu*omega*(f + omega) + (Br**2/(mu*rho) + 1j*nu*omega                              + 1j*eta_f*(f + omega))**2))/(eta_f*nu))\n",
    "    \n",
    "    lambda1_neg = 1./np.sqrt(2) * np.sqrt((Br**2/(mu*rho) + 1j*nu*omega + 1j*eta_f*(omega - f) - \n",
    "                            np.sqrt(4*eta_f*nu*omega*(omega - f) + (Br**2/(mu*rho) + 1j*nu*omega                              + 1j*eta_f*(omega - f))**2))/(eta_f*nu))\n",
    "    \n",
    "    lambda2_pos = 1./np.sqrt(2) * np.sqrt((Br**2/(mu*rho) + 1j*nu*omega + 1j*eta_f*(f + omega) + \n",
    "                            np.sqrt(4*eta_f*nu*omega*(f + omega) + (Br**2/(mu*rho) + 1j*nu*omega                              + 1j*eta_f*(f + omega))**2))/(eta_f*nu))\n",
    "    \n",
    "    lambda2_neg = 1./np.sqrt(2) * np.sqrt((Br**2/(mu*rho) + 1j*nu*omega + 1j*eta_f*(omega - f) + \n",
    "                            np.sqrt(4*eta_f*nu*omega*(omega - f) + (Br**2/(mu*rho) + 1j*nu*omega                                     + 1j*eta_f*(omega - f))**2))/(eta_f*nu))\n",
    "    \n",
    "    F_pos = ( (eta_f * lambda1_pos - eta_s*lambda_s) * ( 1j*omega/lambda2_pos - eta_f*lambda2_pos )  -  (eta_f * lambda2_pos - eta_s * lambda_s) * ( 1j*omega/lambda1_pos - eta_f*lambda1_pos ) )\n",
    "             \n",
    "    F_neg = ( (eta_f * lambda1_neg - eta_s*lambda_s) * ( 1j*omega/lambda2_neg - eta_f*lambda2_neg )  -  (eta_f * lambda2_neg - eta_s * lambda_s) * ( 1j*omega/lambda1_neg - eta_f*lambda1_neg ) )\n",
    "    \n",
    "    F1_pos = -(eta_f * lambda2_pos - eta_s * lambda_s)/F_pos\n",
    "    F1_neg = -(eta_f * lambda2_neg - eta_s * lambda_s)/F_neg\n",
    "    F2_pos = (eta_f * lambda1_pos - eta_s * lambda_s)/F_pos\n",
    "    F2_neg = (eta_f * lambda1_neg - eta_s * lambda_s)/F_neg\n",
    "    \n",
    "    Iem = Br**2 * ( (1 + np.cos(theta))**2 * (F1_pos + F2_pos) + \n",
    "                    (1 - np.cos(theta))**2 * (F1_neg + F2_neg) )\n",
    "\n",
    "    Ivisc = ( (1 + np.cos(theta))**2 * (1j * omega * (F1_pos + F2_pos) - eta_f * (F1_pos * lambda1_pos**2 + F2_pos * lambda2_pos**2))\n",
    "             + (1 - np.cos(theta))**2 * (1j * omega * (F1_neg + F2_neg) - eta_f * (F1_neg * lambda1_neg**2 + F2_neg * lambda2_neg**2))\n",
    "            )\n",
    "\n",
    "    IemInt = (np.pi*rcmb**4)/(2*1j*Omega*Af) * 1/mu * simpson(Iem * np.sin(theta),x=theta)\n",
    "    IviscInt = (np.pi*rcmb**4)/(2*1j*Omega*Af) * rho * nu * simpson(Ivisc * np.sin(theta),x=theta)\n",
    "    \n",
    "    return Iem, IemInt, Ivisc, IviscInt"
   ]
  },
  {
   "cell_type": "code",
   "execution_count": 142,
   "id": "0255ad33-bbbc-44d1-8160-a21d947af55c",
   "metadata": {},
   "outputs": [
    {
     "name": "stderr",
     "output_type": "stream",
     "text": [
      "/tmp/ipykernel_414/192501579.py:17: RuntimeWarning: divide by zero encountered in divide\n",
      "  F_neg = ( (eta_f * lambda1_neg - eta_s*lambda_s) * ( 1j*omega/lambda2_neg - eta_f*lambda2_neg )  -  (eta_f * lambda2_neg - eta_s * lambda_s) * ( 1j*omega/lambda1_neg - eta_f*lambda1_neg ) )\n",
      "/tmp/ipykernel_414/192501579.py:17: RuntimeWarning: invalid value encountered in divide\n",
      "  F_neg = ( (eta_f * lambda1_neg - eta_s*lambda_s) * ( 1j*omega/lambda2_neg - eta_f*lambda2_neg )  -  (eta_f * lambda2_neg - eta_s * lambda_s) * ( 1j*omega/lambda1_neg - eta_f*lambda1_neg ) )\n",
      "/tmp/ipykernel_414/192501579.py:20: RuntimeWarning: invalid value encountered in divide\n",
      "  F1_neg = -(eta_f * lambda2_neg - eta_s * lambda_s)/F_neg\n",
      "/tmp/ipykernel_414/192501579.py:22: RuntimeWarning: invalid value encountered in divide\n",
      "  F2_neg = (eta_f * lambda1_neg - eta_s * lambda_s)/F_neg\n",
      "/tmp/ipykernel_414/192501579.py:15: RuntimeWarning: divide by zero encountered in divide\n",
      "  F_pos = ( (eta_f * lambda1_pos - eta_s*lambda_s) * ( 1j*omega/lambda2_pos - eta_f*lambda2_pos )  -  (eta_f * lambda2_pos - eta_s * lambda_s) * ( 1j*omega/lambda1_pos - eta_f*lambda1_pos ) )\n",
      "/tmp/ipykernel_414/192501579.py:15: RuntimeWarning: invalid value encountered in divide\n",
      "  F_pos = ( (eta_f * lambda1_pos - eta_s*lambda_s) * ( 1j*omega/lambda2_pos - eta_f*lambda2_pos )  -  (eta_f * lambda2_pos - eta_s * lambda_s) * ( 1j*omega/lambda1_pos - eta_f*lambda1_pos ) )\n",
      "/tmp/ipykernel_414/192501579.py:19: RuntimeWarning: invalid value encountered in divide\n",
      "  F1_pos = -(eta_f * lambda2_pos - eta_s * lambda_s)/F_pos\n",
      "/tmp/ipykernel_414/192501579.py:21: RuntimeWarning: invalid value encountered in divide\n",
      "  F2_pos = (eta_f * lambda1_pos - eta_s * lambda_s)/F_pos\n"
     ]
    },
    {
     "data": {
      "image/png": "[encoded data removed]",
      "text/plain": [
       "<Figure size 640x480 with 1 Axes>"
      ]
     },
     "metadata": {},
     "output_type": "display_data"
    }
   ],
   "source": [
    "Br_rms = 2.09e-4\n",
    "Br_dip = np.sqrt(3) * Br_rms * np.cos(theta)\n",
    "Br_uni = np.linspace(0,0.8,100)*1e-3\n",
    "Kcmb_real = np.zeros_like(Br_uni)\n",
    "Kcmb_imag = np.zeros_like(Br_uni)\n",
    "\n",
    "Iem_dip, IemInt_dip, Ivisc_dip, IviscInt_dip = get_diss(Br_dip)\n",
    "\n",
    "for k, br in enumerate(Br_uni):\n",
    "    Iem_uni, IemInt_uni, Ivisc_uni, IviscInt_uni = get_diss(br)\n",
    "    total_diss = IemInt_uni + IviscInt_uni + IemInt_dip + IviscInt_dip\n",
    "    Kcmb_real[k] = np.real(total_diss)\n",
    "    Kcmb_imag[k] = np.imag(total_diss)\n",
    "\n",
    "plt.plot(Br_uni*1e3,Kcmb_real)\n",
    "plt.plot(Br_uni*1e3,Kcmb_imag)\n",
    "plt.show()"
   ]
  },
  {
   "cell_type": "code",
   "execution_count": null,
   "id": "b9b919af-e7d9-48f6-9eec-d63423ae95f1",
   "metadata": {},
   "outputs": [],
   "source": []
  }
 ],
 "metadata": {
  "kernelspec": {
   "display_name": "Python 3 (ipykernel)",
   "language": "python",
   "name": "python3"
  },
  "language_info": {
   "codemirror_mode": {
    "name": "ipython",
    "version": 3
   },
   "file_extension": ".py",
   "mimetype": "text/x-python",
   "name": "python",
   "nbconvert_exporter": "python",
   "pygments_lexer": "ipython3",
   "version": "3.8.10"
  }
 },
 "nbformat": 4,
 "nbformat_minor": 5
}
