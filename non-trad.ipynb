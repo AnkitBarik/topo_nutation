{
 "cells": [
  {
   "cell_type": "code",
   "execution_count": 4,
   "id": "e3a8cb98-388a-4f75-a3ab-e71d5a5d460c",
   "metadata": {},
   "outputs": [],
   "source": [
    "import numpy as np\n",
    "import matplotlib.pyplot as plt\n",
    "from scipy.integrate import dblquad\n",
    "from scipy.special import jv"
   ]
  },
  {
   "cell_type": "code",
   "execution_count": 18,
   "id": "4dd694a9-8899-44c9-bc02-1b5c65f695d5",
   "metadata": {},
   "outputs": [],
   "source": [
    "def h2(k,k0,hurst,hrms):\n",
    "    norm_fac = hrms**2 * hurst/k0**2/np.pi\n",
    "    return norm_fac*(k/k0)**(-2*(hurst+1))\n",
    "\n",
    "def pow_integrand(w,N,theta,U,k,k0,alpha,n,hurst,hrms):\n",
    "    f     = 2*w*np.sin(theta)\n",
    "    fp    = 2*w*np.cos(theta)\n",
    "    M     = np.sqrt( (N**2 - (n*w)**2)*((n*w)**2 - f**2) + fp**2*(n*w)**2*np.sin(alpha)**2 )\n",
    "    U0    = U*np.sin(theta)\n",
    "    V0    = -U\n",
    "    beta  =( U0**2* (np.cos(alpha))**2 + V0**2* (np.sin(alpha))**2 ) * k/w\n",
    "    Jbeta = jv(n,beta)\n",
    "    integ1= Jbeta**2 * M\n",
    "    integ2= 12e3*w*n * integ1*h2(k,k0,hurst,hrms)/(4*np.pi)\n",
    "    return integ2 * np.sin(alpha)"
   ]
  },
  {
   "cell_type": "code",
   "execution_count": 26,
   "id": "659c87a5-4e9a-4683-8b44-c779b439413b",
   "metadata": {},
   "outputs": [],
   "source": [
    "N = 0\n",
    "w = 7.27e-5\n",
    "theta = 9*np.pi/16 #np.linspace(-np.pi/2,np.pi/2,128)\n",
    "alpha = np.linspace(0,2*np.pi,256)\n",
    "U = 87e-6\n",
    "n = 1\n",
    "hurst = 0.7\n",
    "hrms = 1e3\n",
    "k0 = 2*np.pi/1e6\n",
    "k = np.linspace(k0,1e2,1000)\n",
    "\n",
    "alph2d,k2d = np.meshgrid(alpha,k,indexing='ij')\n",
    "integ = pow_integrand(w,N,theta,U,k2d,k0,alph2d,n,hurst,hrms)        "
   ]
  },
  {
   "cell_type": "code",
   "execution_count": null,
   "id": "d9ca7b4b-0269-481c-bb32-538010441a00",
   "metadata": {},
   "outputs": [],
   "source": []
  }
 ],
 "metadata": {
  "kernelspec": {
   "display_name": "Python 3 (ipykernel)",
   "language": "python",
   "name": "python3"
  },
  "language_info": {
   "codemirror_mode": {
    "name": "ipython",
    "version": 3
   },
   "file_extension": ".py",
   "mimetype": "text/x-python",
   "name": "python",
   "nbconvert_exporter": "python",
   "pygments_lexer": "ipython3",
   "version": "3.8.10"
  }
 },
 "nbformat": 4,
 "nbformat_minor": 5
}
