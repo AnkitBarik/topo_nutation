{
 "cells": [
  {
   "cell_type": "code",
   "execution_count": null,
   "id": "c5dc0e16-93c3-48ad-b832-944767b84823",
   "metadata": {},
   "outputs": [],
   "source": [
    "import numpy as np\n",
    "import matplotlib.pyplot as plt"
   ]
  },
  {
   "cell_type": "code",
   "execution_count": null,
   "id": "3e6542ce-e094-4589-bee3-5d24e0231bb6",
   "metadata": {},
   "outputs": [],
   "source": [
    "# Fixed parameters\n",
    "Omega = 2*np.pi/86400\n",
    "R = 3486e3\n",
    "rho = 11e3\n",
    "U0 = 8.7e-5"
   ]
  },
  {
   "cell_type": "markdown",
   "id": "ee3f2d26-1618-4ded-a9a7-b76c5a1ee9d6",
   "metadata": {},
   "source": [
    "# Trade off plot for N=0 and varying the Hurst exponent"
   ]
  },
  {
   "cell_type": "code",
   "execution_count": null,
   "id": "d2389a0d-0296-462d-bd9e-9b8381aa8088",
   "metadata": {},
   "outputs": [],
   "source": [
    "H_array = np.array([0.6,0.7,0.8,0.9]) # Hurst exponent"
   ]
  },
  {
   "cell_type": "code",
   "execution_count": null,
   "id": "bfa8a92e-fa77-4a61-9256-107ee0f53165",
   "metadata": {},
   "outputs": [],
   "source": [
    "def hrms(H,target):\n",
    "    lambda0 = np.linspace(1,2e6,500)\n",
    "    k0 = 2*np.pi/lambda0\n",
    "    return lambda0, 2*np.pi*np.sqrt((2*H-1)/H/rho/R**2/Omega/U0**2/k0) * np.sqrt(target/12)\n",
    "    "
   ]
  },
  {
   "cell_type": "code",
   "execution_count": null,
   "id": "ca590c94-e5ff-42df-a9c5-2cedcb5632de",
   "metadata": {},
   "outputs": [],
   "source": [
    "As = 5.8531e34\n",
    "Af = 9.0583e36\n",
    "A  = 8.0115e37\n",
    "Am = A - (As+Af)\n",
    "wf = 2.4e-11\n",
    "\n",
    "sf = - (A/Am) * Af * wf**2 * Omega"
   ]
  },
  {
   "cell_type": "code",
   "execution_count": null,
   "id": "a3da9fe8-4241-400f-af6f-2a4c26850af6",
   "metadata": {},
   "outputs": [],
   "source": [
    "ImKcmbtarget = -1.85e-5"
   ]
  },
  {
   "cell_type": "code",
   "execution_count": null,
   "id": "535205ab-a94f-49a3-8d75-120a2fc54092",
   "metadata": {},
   "outputs": [],
   "source": [
    "plt.rc('text', usetex=True)\n",
    "colors = plt.cm.viridis(np.linspace(0.2,1,len(H_array)))\n",
    "for i, H in enumerate(H_array):\n",
    "    lambda0, h = hrms(H, sf*ImKcmbtarget)\n",
    "    lambda0, hplus = hrms(H, sf*(ImKcmbtarget-0.14e-5))\n",
    "    lambda0, hminus = hrms(H, sf*(ImKcmbtarget+0.14e-5))\n",
    "    plt.plot(lambda0/1e3,h/1e3, label=fr'$\\mathcal{{H}} = {H_array[i]}$', color=colors[i])\n",
    "    plt.fill_between(lambda0/1e3, hminus/1e3, hplus/1e3, alpha=0.25, color=colors[i])\n",
    "plt.xlabel(r'$\\lambda_0 [\\mathrm{km}]$', fontsize=14)\n",
    "plt.ylabel(r'$h_\\mathrm{rms} [\\mathrm{km}]$', fontsize=14)\n",
    "#plt.title(rf'$N = 0$', fontsize=14)\n",
    "plt.legend()\n",
    "plt.grid(True)\n",
    "\n",
    "plt.savefig(\"trade-off_N=0.pdf\")\n",
    "plt.show()"
   ]
  }
 ],
 "metadata": {
  "kernelspec": {
   "display_name": "Python 3 (ipykernel)",
   "language": "python",
   "name": "python3"
  },
  "language_info": {
   "codemirror_mode": {
    "name": "ipython",
    "version": 3
   },
   "file_extension": ".py",
   "mimetype": "text/x-python",
   "name": "python",
   "nbconvert_exporter": "python",
   "pygments_lexer": "ipython3",
   "version": "3.12.7"
  }
 },
 "nbformat": 4,
 "nbformat_minor": 5
}
