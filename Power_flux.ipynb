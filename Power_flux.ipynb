{
 "cells": [
  {
   "cell_type": "code",
   "execution_count": null,
   "id": "6b5b36cb-7730-4363-ba80-eb38fa608507",
   "metadata": {},
   "outputs": [],
   "source": [
    "import numpy as np\n",
    "from scipy.integrate import quad\n",
    "import matplotlib.pyplot as plt"
   ]
  },
  {
   "cell_type": "code",
   "execution_count": null,
   "id": "313fd223-3651-48eb-a363-b75e8987de53",
   "metadata": {},
   "outputs": [],
   "source": [
    "rho = 11e3\n",
    "Omega = 2*np.pi/86400\n",
    "U0 = 8.7e-5\n",
    "R = 3486e3"
   ]
  },
  {
   "cell_type": "code",
   "execution_count": null,
   "id": "1d55b8cf-4cba-4ce6-8560-f41fe50fb4da",
   "metadata": {},
   "outputs": [],
   "source": [
    "def f(alpha, lat, NoverOmega):\n",
    "    expr = (NoverOmega**2 - 1)*(1 - 4*np.sin(lat)**2) + 4*np.cos(lat)**2*np.sin(alpha)**2\n",
    "    \n",
    "    if expr < 0:\n",
    "        return 0.0\n",
    "\n",
    "    sqrt_term = np.sqrt(expr)\n",
    "    return sqrt_term * (np.sin(lat)**2 * np.cos(alpha)**2 + np.sin(alpha)**2)"
   ]
  },
  {
   "cell_type": "code",
   "execution_count": null,
   "id": "ca1cce08-5662-4e73-9790-ef7839d0c73b",
   "metadata": {},
   "outputs": [],
   "source": [
    "def Pflux(NoverOmega, lat):\n",
    " return quad(f, 0, 2*np.pi, args=(lat, NoverOmega), limit=1000, epsabs=1e-10, epsrel=1e-10)[0]"
   ]
  },
  {
   "cell_type": "code",
   "execution_count": null,
   "id": "d27a1d58-202c-4564-a61e-75fd8860c4b9",
   "metadata": {},
   "outputs": [],
   "source": [
    "def f_trad(alpha, lat, NoverOmega):\n",
    "    expr = (NoverOmega**2 - 1)*(1 - 4*np.sin(lat)**2)\n",
    "    \n",
    "    if expr < 0:\n",
    "        return 0.0\n",
    "\n",
    "    sqrt_term = np.sqrt(expr)\n",
    "    return sqrt_term * (np.sin(lat)**2 * np.cos(alpha)**2 + np.sin(alpha)**2)"
   ]
  },
  {
   "cell_type": "code",
   "execution_count": null,
   "id": "a29fb249-4769-4abd-ba74-1e83522bf237",
   "metadata": {},
   "outputs": [],
   "source": [
    "def Pflux_trad(NoverOmega, lat):\n",
    " return quad(f_trad, 0, 2*np.pi, args=(lat, NoverOmega), limit=1000, epsabs=1e-10, epsrel=1e-10)[0]"
   ]
  },
  {
   "cell_type": "code",
   "execution_count": null,
   "id": "35ca0d89-e02c-4cc3-93dc-2a52dd7e142b",
   "metadata": {},
   "outputs": [],
   "source": [
    "# Vectorize over latitude\n",
    "latitudes = np.linspace(0, np.pi/2, 200) \n",
    "Pflux_vec = np.vectorize(lambda lat: Pflux(0.5, lat))\n",
    "power_flux = Pflux_vec(latitudes)\n",
    "\n",
    "latitudes = np.linspace(0, np.pi/2, 200) \n",
    "Pflux_trad_vec = np.vectorize(lambda lat: Pflux_trad(0.5, lat))\n",
    "power_flux_trad = Pflux_trad_vec(latitudes)"
   ]
  },
  {
   "cell_type": "code",
   "execution_count": null,
   "id": "b9aac101-8c70-47d7-8551-35ef71a7b962",
   "metadata": {},
   "outputs": [],
   "source": [
    "k0 = 2*np.pi/1e6\n",
    "H = 0.7\n",
    "hrms = 5e3"
   ]
  },
  {
   "cell_type": "code",
   "execution_count": null,
   "id": "b631af11-8de2-4089-be94-8e915302ee48",
   "metadata": {},
   "outputs": [],
   "source": [
    "# Plotting\n",
    "plt.rc('text', usetex=True)\n",
    "plt.plot(np.degrees(latitudes), (rho/8/np.pi**3)*(hrms**2*k0/(2*H-1))*(U0**2*Omega)*power_flux, label=\"exact\")\n",
    "plt.plot(np.degrees(latitudes), (rho/8/np.pi**3)*(hrms**2*k0/(2*H-1))*(U0**2*Omega)*power_flux_trad, label=\"traditional approximation\")\n",
    "plt.xlabel(\"Latitude (degrees)\")\n",
    "plt.ylabel(r'Power flux ($\\mathrm{W/m^2}$)')\n",
    "plt.title(\"Power flux vs Latitude\")\n",
    "plt.legend()\n",
    "plt.grid(True)\n",
    "plt.show()"
   ]
  },
  {
   "cell_type": "code",
   "execution_count": null,
   "id": "eb80b944-c959-4572-bc42-6dfc037a7c38",
   "metadata": {},
   "outputs": [],
   "source": [
    "# Wrapper for latitude integration, including Jacobian (R^2 cos(lat)) and the 2*pi factor from integration over longitude\n",
    "def integrand(lat, NoverOmega):\n",
    "    return Pflux(NoverOmega, lat) * R**2 * 2*np.pi * np.cos(lat)"
   ]
  },
  {
   "cell_type": "code",
   "execution_count": null,
   "id": "95a5a785-4be5-4cec-be09-5e3eab9c7f23",
   "metadata": {},
   "outputs": [],
   "source": [
    "N_values = np.linspace(0., 5.0, 41) \n",
    "results = []\n",
    "\n",
    "for NoverOmega in N_values:\n",
    "    total_flux, _ = quad(\n",
    "        integrand,\n",
    "        -np.pi/2,\n",
    "        np.pi/2,\n",
    "        args=(NoverOmega),\n",
    "        limit=1000,\n",
    "        epsabs=1e-10,\n",
    "        epsrel=1e-10\n",
    "    )\n",
    "    results.append(total_flux)"
   ]
  },
  {
   "cell_type": "code",
   "execution_count": null,
   "id": "f37fb0e3-a2d9-47fe-9342-4082023b7072",
   "metadata": {},
   "outputs": [],
   "source": [
    "# Wrapper for latitude integration, including Jacobian (R^2 cos(lat)) and the 2*pi factor from integration over longitude\n",
    "def integrand_trad(lat, NoverOmega):\n",
    "    return Pflux_trad(NoverOmega, lat) * R**2 * 2*np.pi * np.cos(lat)"
   ]
  },
  {
   "cell_type": "code",
   "execution_count": null,
   "id": "e90bab1d-0f2a-4ca2-9776-55cfe781fc03",
   "metadata": {},
   "outputs": [],
   "source": [
    "N_values = np.linspace(0., 5.0, 41) \n",
    "results_trad = []\n",
    "\n",
    "for NoverOmega in N_values:\n",
    "    total_flux_trad, _ = quad(\n",
    "        integrand_trad,\n",
    "        -np.pi/2,\n",
    "        np.pi/2,\n",
    "        args=(NoverOmega),\n",
    "        limit=1000,\n",
    "        epsabs=1e-10,\n",
    "        epsrel=1e-10\n",
    "    )\n",
    "    results_trad.append(total_flux_trad)"
   ]
  },
  {
   "cell_type": "code",
   "execution_count": null,
   "id": "7b59a04e-146c-4e94-8992-3707e3bdf2e6",
   "metadata": {},
   "outputs": [],
   "source": [
    "ImKcmbtarget = -1.85e-5"
   ]
  },
  {
   "cell_type": "code",
   "execution_count": null,
   "id": "4f85f2ff-b20f-440f-9e42-88728d96e8d6",
   "metadata": {},
   "outputs": [],
   "source": [
    "As = 5.8531e34\n",
    "Af = 9.0583e36\n",
    "A  = 8.0115e37\n",
    "Am = A - (As+Af)\n",
    "wf = 2.4e-11"
   ]
  },
  {
   "cell_type": "code",
   "execution_count": null,
   "id": "894bfd4a-c258-4746-b179-9caa76816ebc",
   "metadata": {},
   "outputs": [],
   "source": [
    "k0 = 2*np.pi/1e6\n",
    "H = 0.7\n",
    "hrms = 5.67e3"
   ]
  },
  {
   "cell_type": "code",
   "execution_count": null,
   "id": "672c6a2b-f627-412b-8b4d-6ea587085515",
   "metadata": {},
   "outputs": [],
   "source": [
    "plt.rc('text', usetex=True)\n",
    "\n",
    "# Secondary y-axis\n",
    " \n",
    "ax = plt.gca()\n",
    "ax.secondary_yaxis('right', functions=(lambda y: y / sf, lambda y: y * sf))\\\n",
    "         .set_ylabel(r'$\\mathrm{Im}(K_\\mathrm{cmb})$', fontsize=14)\n",
    "ax.axhline(y=sf*ImKcmbtarget, color='k', linestyle='--')\n",
    "\n",
    "ax.set_xlim(N_values[0] - 0.25, N_values[-1] + 0.25)\n",
    "x_fill = np.linspace(N_values[0] - 0.25, N_values[-1] + 0.25, 100)\n",
    "ax.fill_between(x_fill, sf*(-1.71e-5), sf*(-1.99e-5), color='gray', alpha=0.2)\n",
    "\n",
    "plt.plot(N_values,(rho/8/np.pi**3)*(hrms**2*k0*H/(2*H-1))*(U0**2*Omega)*np.array(results), marker='o', linestyle='-', label=\"exact\")\n",
    "plt.plot(N_values,(rho/8/np.pi**3)*(hrms**2*k0*H/(2*H-1))*(U0**2*Omega)*np.array(results_trad), marker='o', linestyle='-', label=\"traditional approximation\")\n",
    "plt.xlabel(r'$N/\\Omega$', fontsize=14)\n",
    "plt.ylabel(r'Total power (W)', fontsize=14)\n",
    "plt.legend()\n",
    "plt.grid(True)\n",
    "\n",
    "\n",
    "plt.savefig(\"Total_power.pdf\")\n",
    "plt.show()"
   ]
  },
  {
   "cell_type": "code",
   "execution_count": null,
   "id": "b0e0b1c8-a5e0-4522-889c-b4b6d279f7d8",
   "metadata": {},
   "outputs": [],
   "source": [
    "plt.plot(np.array(results)/(R**2 * 2*np.pi), marker='o', linestyle='-', label=\"exact\")"
   ]
  },
  {
   "cell_type": "code",
   "execution_count": null,
   "id": "c08e111d-0c2a-405d-bb4d-af72e15b2b51",
   "metadata": {},
   "outputs": [],
   "source": []
  }
 ],
 "metadata": {
  "kernelspec": {
   "display_name": "Python 3 (ipykernel)",
   "language": "python",
   "name": "python3"
  },
  "language_info": {
   "codemirror_mode": {
    "name": "ipython",
    "version": 3
   },
   "file_extension": ".py",
   "mimetype": "text/x-python",
   "name": "python",
   "nbconvert_exporter": "python",
   "pygments_lexer": "ipython3",
   "version": "3.12.7"
  }
 },
 "nbformat": 4,
 "nbformat_minor": 5
}
